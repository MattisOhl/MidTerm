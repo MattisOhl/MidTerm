{
 "cells": [
  {
   "cell_type": "code",
   "execution_count": 60,
   "id": "b1c950d7",
   "metadata": {},
   "outputs": [],
   "source": [
    "%matplotlib inline\n",
    "import pandas as pd\n",
    "import seaborn as sns\n",
    "import math\n",
    "import matplotlib.pyplot as plt\n",
    "import scipy.stats as stats\n",
    "import numpy as np"
   ]
  },
  {
   "cell_type": "code",
   "execution_count": 61,
   "id": "4da13417",
   "metadata": {},
   "outputs": [
    {
     "data": {
      "text/html": [
       "<style type=\"text/css\">\n",
       "</style>\n",
       "<table id=\"T_105e5\">\n",
       "  <thead>\n",
       "    <tr>\n",
       "      <th class=\"blank level0\" >&nbsp;</th>\n",
       "      <th id=\"T_105e5_level0_col0\" class=\"col_heading level0 col0\" >Date</th>\n",
       "      <th id=\"T_105e5_level0_col1\" class=\"col_heading level0 col1\" >High</th>\n",
       "      <th id=\"T_105e5_level0_col2\" class=\"col_heading level0 col2\" >Low</th>\n",
       "      <th id=\"T_105e5_level0_col3\" class=\"col_heading level0 col3\" >Open</th>\n",
       "      <th id=\"T_105e5_level0_col4\" class=\"col_heading level0 col4\" >Close</th>\n",
       "      <th id=\"T_105e5_level0_col5\" class=\"col_heading level0 col5\" >Volume</th>\n",
       "      <th id=\"T_105e5_level0_col6\" class=\"col_heading level0 col6\" >Adj Close</th>\n",
       "    </tr>\n",
       "  </thead>\n",
       "  <tbody>\n",
       "    <tr>\n",
       "      <th id=\"T_105e5_level0_row0\" class=\"row_heading level0 row0\" >454</th>\n",
       "      <td id=\"T_105e5_row0_col0\" class=\"data row0 col0\" >2019-09-05</td>\n",
       "      <td id=\"T_105e5_row0_col1\" class=\"data row0 col1\" >81.879997</td>\n",
       "      <td id=\"T_105e5_row0_col2\" class=\"data row0 col2\" >78.680000</td>\n",
       "      <td id=\"T_105e5_row0_col3\" class=\"data row0 col3\" >81.250000</td>\n",
       "      <td id=\"T_105e5_row0_col4\" class=\"data row0 col4\" >78.709999</td>\n",
       "      <td id=\"T_105e5_row0_col5\" class=\"data row0 col5\" >2103500.000000</td>\n",
       "      <td id=\"T_105e5_row0_col6\" class=\"data row0 col6\" >76.681862</td>\n",
       "    </tr>\n",
       "    <tr>\n",
       "      <th id=\"T_105e5_level0_row1\" class=\"row_heading level0 row1\" >354</th>\n",
       "      <td id=\"T_105e5_row1_col0\" class=\"data row1 col0\" >2019-04-12</td>\n",
       "      <td id=\"T_105e5_row1_col1\" class=\"data row1 col1\" >58.860001</td>\n",
       "      <td id=\"T_105e5_row1_col2\" class=\"data row1 col2\" >57.970001</td>\n",
       "      <td id=\"T_105e5_row1_col3\" class=\"data row1 col3\" >58.730000</td>\n",
       "      <td id=\"T_105e5_row1_col4\" class=\"data row1 col4\" >58.029999</td>\n",
       "      <td id=\"T_105e5_row1_col5\" class=\"data row1 col5\" >1889500.000000</td>\n",
       "      <td id=\"T_105e5_row1_col6\" class=\"data row1 col6\" >56.290615</td>\n",
       "    </tr>\n",
       "    <tr>\n",
       "      <th id=\"T_105e5_level0_row2\" class=\"row_heading level0 row2\" >280</th>\n",
       "      <td id=\"T_105e5_row2_col0\" class=\"data row2 col0\" >2018-12-26</td>\n",
       "      <td id=\"T_105e5_row2_col1\" class=\"data row2 col1\" >43.500000</td>\n",
       "      <td id=\"T_105e5_row2_col2\" class=\"data row2 col2\" >42.240002</td>\n",
       "      <td id=\"T_105e5_row2_col3\" class=\"data row2 col3\" >42.480000</td>\n",
       "      <td id=\"T_105e5_row2_col4\" class=\"data row2 col4\" >43.490002</td>\n",
       "      <td id=\"T_105e5_row2_col5\" class=\"data row2 col5\" >3380400.000000</td>\n",
       "      <td id=\"T_105e5_row2_col6\" class=\"data row2 col6\" >42.110428</td>\n",
       "    </tr>\n",
       "    <tr>\n",
       "      <th id=\"T_105e5_level0_row3\" class=\"row_heading level0 row3\" >109</th>\n",
       "      <td id=\"T_105e5_row3_col0\" class=\"data row3 col0\" >2018-04-23</td>\n",
       "      <td id=\"T_105e5_row3_col1\" class=\"data row3 col1\" >40.939999</td>\n",
       "      <td id=\"T_105e5_row3_col2\" class=\"data row3 col2\" >40.290001</td>\n",
       "      <td id=\"T_105e5_row3_col3\" class=\"data row3 col3\" >40.619999</td>\n",
       "      <td id=\"T_105e5_row3_col4\" class=\"data row3 col4\" >40.490002</td>\n",
       "      <td id=\"T_105e5_row3_col5\" class=\"data row3 col5\" >1676900.000000</td>\n",
       "      <td id=\"T_105e5_row3_col6\" class=\"data row3 col6\" >38.929367</td>\n",
       "    </tr>\n",
       "    <tr>\n",
       "      <th id=\"T_105e5_level0_row4\" class=\"row_heading level0 row4\" >356</th>\n",
       "      <td id=\"T_105e5_row4_col0\" class=\"data row4 col0\" >2019-04-16</td>\n",
       "      <td id=\"T_105e5_row4_col1\" class=\"data row4 col1\" >58.459999</td>\n",
       "      <td id=\"T_105e5_row4_col2\" class=\"data row4 col2\" >57.369999</td>\n",
       "      <td id=\"T_105e5_row4_col3\" class=\"data row4 col3\" >58.169998</td>\n",
       "      <td id=\"T_105e5_row4_col4\" class=\"data row4 col4\" >57.560001</td>\n",
       "      <td id=\"T_105e5_row4_col5\" class=\"data row4 col5\" >1643100.000000</td>\n",
       "      <td id=\"T_105e5_row4_col6\" class=\"data row4 col6\" >55.834705</td>\n",
       "    </tr>\n",
       "  </tbody>\n",
       "</table>\n"
      ],
      "text/plain": [
       "<pandas.io.formats.style.Styler at 0x1cac223f820>"
      ]
     },
     "execution_count": 61,
     "metadata": {},
     "output_type": "execute_result"
    }
   ],
   "source": [
    "df_Ball = pd.read_csv('C:/Users/matti/Documents/data/BALL.csv')\n",
    "df_Ball.sample(5).style"
   ]
  },
  {
   "cell_type": "code",
   "execution_count": 62,
   "id": "cd65adff",
   "metadata": {},
   "outputs": [
    {
     "data": {
      "text/html": [
       "<style type=\"text/css\">\n",
       "</style>\n",
       "<table id=\"T_d5ee9\">\n",
       "  <thead>\n",
       "    <tr>\n",
       "      <th class=\"blank level0\" >&nbsp;</th>\n",
       "      <th id=\"T_d5ee9_level0_col0\" class=\"col_heading level0 col0\" >Date</th>\n",
       "      <th id=\"T_d5ee9_level0_col1\" class=\"col_heading level0 col1\" >High</th>\n",
       "      <th id=\"T_d5ee9_level0_col2\" class=\"col_heading level0 col2\" >Low</th>\n",
       "      <th id=\"T_d5ee9_level0_col3\" class=\"col_heading level0 col3\" >Open</th>\n",
       "      <th id=\"T_d5ee9_level0_col4\" class=\"col_heading level0 col4\" >Close</th>\n",
       "      <th id=\"T_d5ee9_level0_col5\" class=\"col_heading level0 col5\" >Volume</th>\n",
       "      <th id=\"T_d5ee9_level0_col6\" class=\"col_heading level0 col6\" >Adj Close</th>\n",
       "    </tr>\n",
       "  </thead>\n",
       "  <tbody>\n",
       "    <tr>\n",
       "      <th id=\"T_d5ee9_level0_row0\" class=\"row_heading level0 row0\" >247</th>\n",
       "      <td id=\"T_d5ee9_row0_col0\" class=\"data row0 col0\" >2018-11-06</td>\n",
       "      <td id=\"T_d5ee9_row0_col1\" class=\"data row0 col1\" >130.470001</td>\n",
       "      <td id=\"T_d5ee9_row0_col2\" class=\"data row0 col2\" >127.809998</td>\n",
       "      <td id=\"T_d5ee9_row0_col3\" class=\"data row0 col3\" >128.399994</td>\n",
       "      <td id=\"T_d5ee9_row0_col4\" class=\"data row0 col4\" >130.389999</td>\n",
       "      <td id=\"T_d5ee9_row0_col5\" class=\"data row0 col5\" >1410400.000000</td>\n",
       "      <td id=\"T_d5ee9_row0_col6\" class=\"data row0 col6\" >120.225677</td>\n",
       "    </tr>\n",
       "    <tr>\n",
       "      <th id=\"T_d5ee9_level0_row1\" class=\"row_heading level0 row1\" >569</th>\n",
       "      <td id=\"T_d5ee9_row1_col0\" class=\"data row1 col0\" >2020-02-20</td>\n",
       "      <td id=\"T_d5ee9_row1_col1\" class=\"data row1 col1\" >164.000000</td>\n",
       "      <td id=\"T_d5ee9_row1_col2\" class=\"data row1 col2\" >162.679993</td>\n",
       "      <td id=\"T_d5ee9_row1_col3\" class=\"data row1 col3\" >163.740005</td>\n",
       "      <td id=\"T_d5ee9_row1_col4\" class=\"data row1 col4\" >163.149994</td>\n",
       "      <td id=\"T_d5ee9_row1_col5\" class=\"data row1 col5\" >2265600.000000</td>\n",
       "      <td id=\"T_d5ee9_row1_col6\" class=\"data row1 col6\" >154.366898</td>\n",
       "    </tr>\n",
       "    <tr>\n",
       "      <th id=\"T_d5ee9_level0_row2\" class=\"row_heading level0 row2\" >1190</th>\n",
       "      <td id=\"T_d5ee9_row2_col0\" class=\"data row2 col0\" >2022-08-08</td>\n",
       "      <td id=\"T_d5ee9_row2_col1\" class=\"data row2 col1\" >187.669998</td>\n",
       "      <td id=\"T_d5ee9_row2_col2\" class=\"data row2 col2\" >185.539993</td>\n",
       "      <td id=\"T_d5ee9_row2_col3\" class=\"data row2 col3\" >186.119995</td>\n",
       "      <td id=\"T_d5ee9_row2_col4\" class=\"data row2 col4\" >186.559998</td>\n",
       "      <td id=\"T_d5ee9_row2_col5\" class=\"data row2 col5\" >1439600.000000</td>\n",
       "      <td id=\"T_d5ee9_row2_col6\" class=\"data row2 col6\" >185.758774</td>\n",
       "    </tr>\n",
       "    <tr>\n",
       "      <th id=\"T_d5ee9_level0_row3\" class=\"row_heading level0 row3\" >695</th>\n",
       "      <td id=\"T_d5ee9_row3_col0\" class=\"data row3 col0\" >2020-08-19</td>\n",
       "      <td id=\"T_d5ee9_row3_col1\" class=\"data row3 col1\" >126.169998</td>\n",
       "      <td id=\"T_d5ee9_row3_col2\" class=\"data row3 col2\" >123.449997</td>\n",
       "      <td id=\"T_d5ee9_row3_col3\" class=\"data row3 col3\" >125.379997</td>\n",
       "      <td id=\"T_d5ee9_row3_col4\" class=\"data row3 col4\" >123.930000</td>\n",
       "      <td id=\"T_d5ee9_row3_col5\" class=\"data row3 col5\" >1480700.000000</td>\n",
       "      <td id=\"T_d5ee9_row3_col6\" class=\"data row3 col6\" >118.860878</td>\n",
       "    </tr>\n",
       "    <tr>\n",
       "      <th id=\"T_d5ee9_level0_row4\" class=\"row_heading level0 row4\" >1153</th>\n",
       "      <td id=\"T_d5ee9_row4_col0\" class=\"data row4 col0\" >2022-06-14</td>\n",
       "      <td id=\"T_d5ee9_row4_col1\" class=\"data row4 col1\" >200.429993</td>\n",
       "      <td id=\"T_d5ee9_row4_col2\" class=\"data row4 col2\" >196.490005</td>\n",
       "      <td id=\"T_d5ee9_row4_col3\" class=\"data row4 col3\" >198.639999</td>\n",
       "      <td id=\"T_d5ee9_row4_col4\" class=\"data row4 col4\" >197.940002</td>\n",
       "      <td id=\"T_d5ee9_row4_col5\" class=\"data row4 col5\" >2202500.000000</td>\n",
       "      <td id=\"T_d5ee9_row4_col6\" class=\"data row4 col6\" >196.269028</td>\n",
       "    </tr>\n",
       "  </tbody>\n",
       "</table>\n"
      ],
      "text/plain": [
       "<pandas.io.formats.style.Styler at 0x1cac0c06850>"
      ]
     },
     "execution_count": 62,
     "metadata": {},
     "output_type": "execute_result"
    }
   ],
   "source": [
    "df_CB = pd.read_csv('C:/Users/matti/Documents/data/CB.csv')\n",
    "df_CB.sample(5).style"
   ]
  },
  {
   "cell_type": "code",
   "execution_count": 63,
   "id": "82c56d62",
   "metadata": {},
   "outputs": [
    {
     "data": {
      "text/html": [
       "<style type=\"text/css\">\n",
       "</style>\n",
       "<table id=\"T_3c157\">\n",
       "  <thead>\n",
       "    <tr>\n",
       "      <th class=\"blank level0\" >&nbsp;</th>\n",
       "      <th id=\"T_3c157_level0_col0\" class=\"col_heading level0 col0\" >Date</th>\n",
       "      <th id=\"T_3c157_level0_col1\" class=\"col_heading level0 col1\" >High</th>\n",
       "      <th id=\"T_3c157_level0_col2\" class=\"col_heading level0 col2\" >Low</th>\n",
       "      <th id=\"T_3c157_level0_col3\" class=\"col_heading level0 col3\" >Open</th>\n",
       "      <th id=\"T_3c157_level0_col4\" class=\"col_heading level0 col4\" >Close</th>\n",
       "      <th id=\"T_3c157_level0_col5\" class=\"col_heading level0 col5\" >Volume</th>\n",
       "      <th id=\"T_3c157_level0_col6\" class=\"col_heading level0 col6\" >Adj Close</th>\n",
       "    </tr>\n",
       "  </thead>\n",
       "  <tbody>\n",
       "    <tr>\n",
       "      <th id=\"T_3c157_level0_row0\" class=\"row_heading level0 row0\" >41</th>\n",
       "      <td id=\"T_3c157_row0_col0\" class=\"data row0 col0\" >2022-03-18</td>\n",
       "      <td id=\"T_3c157_row0_col1\" class=\"data row0 col1\" >51.410000</td>\n",
       "      <td id=\"T_3c157_row0_col2\" class=\"data row0 col2\" >48.880001</td>\n",
       "      <td id=\"T_3c157_row0_col3\" class=\"data row0 col3\" >50.650002</td>\n",
       "      <td id=\"T_3c157_row0_col4\" class=\"data row0 col4\" >49.009998</td>\n",
       "      <td id=\"T_3c157_row0_col5\" class=\"data row0 col5\" >9663900</td>\n",
       "      <td id=\"T_3c157_row0_col6\" class=\"data row0 col6\" >49.009998</td>\n",
       "    </tr>\n",
       "    <tr>\n",
       "      <th id=\"T_3c157_level0_row1\" class=\"row_heading level0 row1\" >75</th>\n",
       "      <td id=\"T_3c157_row1_col0\" class=\"data row1 col0\" >2022-05-06</td>\n",
       "      <td id=\"T_3c157_row1_col1\" class=\"data row1 col1\" >61.230000</td>\n",
       "      <td id=\"T_3c157_row1_col2\" class=\"data row1 col2\" >58.700001</td>\n",
       "      <td id=\"T_3c157_row1_col3\" class=\"data row1 col3\" >60.259998</td>\n",
       "      <td id=\"T_3c157_row1_col4\" class=\"data row1 col4\" >60.270000</td>\n",
       "      <td id=\"T_3c157_row1_col5\" class=\"data row1 col5\" >2861000</td>\n",
       "      <td id=\"T_3c157_row1_col6\" class=\"data row1 col6\" >60.270000</td>\n",
       "    </tr>\n",
       "    <tr>\n",
       "      <th id=\"T_3c157_level0_row2\" class=\"row_heading level0 row2\" >69</th>\n",
       "      <td id=\"T_3c157_row2_col0\" class=\"data row2 col0\" >2022-04-28</td>\n",
       "      <td id=\"T_3c157_row2_col1\" class=\"data row2 col1\" >61.349998</td>\n",
       "      <td id=\"T_3c157_row2_col2\" class=\"data row2 col2\" >58.799999</td>\n",
       "      <td id=\"T_3c157_row2_col3\" class=\"data row2 col3\" >60.220001</td>\n",
       "      <td id=\"T_3c157_row2_col4\" class=\"data row2 col4\" >61.310001</td>\n",
       "      <td id=\"T_3c157_row2_col5\" class=\"data row2 col5\" >3354600</td>\n",
       "      <td id=\"T_3c157_row2_col6\" class=\"data row2 col6\" >61.310001</td>\n",
       "    </tr>\n",
       "    <tr>\n",
       "      <th id=\"T_3c157_level0_row3\" class=\"row_heading level0 row3\" >99</th>\n",
       "      <td id=\"T_3c157_row3_col0\" class=\"data row3 col0\" >2022-06-10</td>\n",
       "      <td id=\"T_3c157_row3_col1\" class=\"data row3 col1\" >61.060001</td>\n",
       "      <td id=\"T_3c157_row3_col2\" class=\"data row3 col2\" >59.209999</td>\n",
       "      <td id=\"T_3c157_row3_col3\" class=\"data row3 col3\" >59.849998</td>\n",
       "      <td id=\"T_3c157_row3_col4\" class=\"data row3 col4\" >59.790001</td>\n",
       "      <td id=\"T_3c157_row3_col5\" class=\"data row3 col5\" >1540800</td>\n",
       "      <td id=\"T_3c157_row3_col6\" class=\"data row3 col6\" >59.790001</td>\n",
       "    </tr>\n",
       "    <tr>\n",
       "      <th id=\"T_3c157_level0_row4\" class=\"row_heading level0 row4\" >196</th>\n",
       "      <td id=\"T_3c157_row4_col0\" class=\"data row4 col0\" >2022-10-28</td>\n",
       "      <td id=\"T_3c157_row4_col1\" class=\"data row4 col1\" >95.251999</td>\n",
       "      <td id=\"T_3c157_row4_col2\" class=\"data row4 col2\" >91.820000</td>\n",
       "      <td id=\"T_3c157_row4_col3\" class=\"data row4 col3\" >92.889999</td>\n",
       "      <td id=\"T_3c157_row4_col4\" class=\"data row4 col4\" >93.750000</td>\n",
       "      <td id=\"T_3c157_row4_col5\" class=\"data row4 col5\" >1958000</td>\n",
       "      <td id=\"T_3c157_row4_col6\" class=\"data row4 col6\" >93.750000</td>\n",
       "    </tr>\n",
       "  </tbody>\n",
       "</table>\n"
      ],
      "text/plain": [
       "<pandas.io.formats.style.Styler at 0x1cabe97a190>"
      ]
     },
     "execution_count": 63,
     "metadata": {},
     "output_type": "execute_result"
    }
   ],
   "source": [
    "df_CEG = pd.read_csv('C:/Users/matti/Documents/data/CEG.csv')\n",
    "df_CEG.sample(5).style"
   ]
  },
  {
   "cell_type": "code",
   "execution_count": 64,
   "id": "2e3f4adf",
   "metadata": {},
   "outputs": [
    {
     "data": {
      "text/html": [
       "<style type=\"text/css\">\n",
       "</style>\n",
       "<table id=\"T_77672\">\n",
       "  <thead>\n",
       "    <tr>\n",
       "      <th class=\"blank level0\" >&nbsp;</th>\n",
       "      <th id=\"T_77672_level0_col0\" class=\"col_heading level0 col0\" >Date</th>\n",
       "      <th id=\"T_77672_level0_col1\" class=\"col_heading level0 col1\" >High</th>\n",
       "      <th id=\"T_77672_level0_col2\" class=\"col_heading level0 col2\" >Low</th>\n",
       "      <th id=\"T_77672_level0_col3\" class=\"col_heading level0 col3\" >Open</th>\n",
       "      <th id=\"T_77672_level0_col4\" class=\"col_heading level0 col4\" >Close</th>\n",
       "      <th id=\"T_77672_level0_col5\" class=\"col_heading level0 col5\" >Volume</th>\n",
       "      <th id=\"T_77672_level0_col6\" class=\"col_heading level0 col6\" >Adj Close</th>\n",
       "    </tr>\n",
       "  </thead>\n",
       "  <tbody>\n",
       "    <tr>\n",
       "      <th id=\"T_77672_level0_row0\" class=\"row_heading level0 row0\" >215</th>\n",
       "      <td id=\"T_77672_row0_col0\" class=\"data row0 col0\" >2018-09-21</td>\n",
       "      <td id=\"T_77672_row0_col1\" class=\"data row0 col1\" >337.910004</td>\n",
       "      <td id=\"T_77672_row0_col2\" class=\"data row0 col2\" >334.070007</td>\n",
       "      <td id=\"T_77672_row0_col3\" class=\"data row0 col3\" >334.070007</td>\n",
       "      <td id=\"T_77672_row0_col4\" class=\"data row0 col4\" >337.660004</td>\n",
       "      <td id=\"T_77672_row0_col5\" class=\"data row0 col5\" >1875700.000000</td>\n",
       "      <td id=\"T_77672_row0_col6\" class=\"data row0 col6\" >307.115265</td>\n",
       "    </tr>\n",
       "    <tr>\n",
       "      <th id=\"T_77672_level0_row1\" class=\"row_heading level0 row1\" >372</th>\n",
       "      <td id=\"T_77672_row1_col0\" class=\"data row1 col0\" >2019-05-09</td>\n",
       "      <td id=\"T_77672_row1_col1\" class=\"data row1 col1\" >340.329987</td>\n",
       "      <td id=\"T_77672_row1_col2\" class=\"data row1 col2\" >331.940002</td>\n",
       "      <td id=\"T_77672_row1_col3\" class=\"data row1 col3\" >334.000000</td>\n",
       "      <td id=\"T_77672_row1_col4\" class=\"data row1 col4\" >339.359985</td>\n",
       "      <td id=\"T_77672_row1_col5\" class=\"data row1 col5\" >1496500.000000</td>\n",
       "      <td id=\"T_77672_row1_col6\" class=\"data row1 col6\" >313.163239</td>\n",
       "    </tr>\n",
       "    <tr>\n",
       "      <th id=\"T_77672_level0_row2\" class=\"row_heading level0 row2\" >907</th>\n",
       "      <td id=\"T_77672_row2_col0\" class=\"data row2 col0\" >2021-06-23</td>\n",
       "      <td id=\"T_77672_row2_col1\" class=\"data row2 col1\" >382.510010</td>\n",
       "      <td id=\"T_77672_row2_col2\" class=\"data row2 col2\" >377.260010</td>\n",
       "      <td id=\"T_77672_row2_col3\" class=\"data row2 col3\" >382.209991</td>\n",
       "      <td id=\"T_77672_row2_col4\" class=\"data row2 col4\" >377.329987</td>\n",
       "      <td id=\"T_77672_row2_col5\" class=\"data row2 col5\" >1024000.000000</td>\n",
       "      <td id=\"T_77672_row2_col6\" class=\"data row2 col6\" >369.005707</td>\n",
       "    </tr>\n",
       "    <tr>\n",
       "      <th id=\"T_77672_level0_row3\" class=\"row_heading level0 row3\" >1084</th>\n",
       "      <td id=\"T_77672_row3_col0\" class=\"data row3 col0\" >2022-03-07</td>\n",
       "      <td id=\"T_77672_row3_col1\" class=\"data row3 col1\" >479.989990</td>\n",
       "      <td id=\"T_77672_row3_col2\" class=\"data row3 col2\" >463.000000</td>\n",
       "      <td id=\"T_77672_row3_col3\" class=\"data row3 col3\" >463.010010</td>\n",
       "      <td id=\"T_77672_row3_col4\" class=\"data row3 col4\" >466.149994</td>\n",
       "      <td id=\"T_77672_row3_col5\" class=\"data row3 col5\" >5210100.000000</td>\n",
       "      <td id=\"T_77672_row3_col6\" class=\"data row3 col6\" >466.149994</td>\n",
       "    </tr>\n",
       "    <tr>\n",
       "      <th id=\"T_77672_level0_row4\" class=\"row_heading level0 row4\" >708</th>\n",
       "      <td id=\"T_77672_row4_col0\" class=\"data row4 col0\" >2020-09-08</td>\n",
       "      <td id=\"T_77672_row4_col1\" class=\"data row4 col1\" >385.290009</td>\n",
       "      <td id=\"T_77672_row4_col2\" class=\"data row4 col2\" >378.359985</td>\n",
       "      <td id=\"T_77672_row4_col3\" class=\"data row4 col3\" >383.989990</td>\n",
       "      <td id=\"T_77672_row4_col4\" class=\"data row4 col4\" >380.230011</td>\n",
       "      <td id=\"T_77672_row4_col5\" class=\"data row4 col5\" >1071600.000000</td>\n",
       "      <td id=\"T_77672_row4_col6\" class=\"data row4 col6\" >363.989899</td>\n",
       "    </tr>\n",
       "  </tbody>\n",
       "</table>\n"
      ],
      "text/plain": [
       "<pandas.io.formats.style.Styler at 0x1cac223f400>"
      ]
     },
     "execution_count": 64,
     "metadata": {},
     "output_type": "execute_result"
    }
   ],
   "source": [
    "df_LMT = pd.read_csv('C:/Users/matti/Documents/data/LMT.csv')\n",
    "df_LMT.sample(5).style"
   ]
  },
  {
   "cell_type": "code",
   "execution_count": 65,
   "id": "50029032",
   "metadata": {},
   "outputs": [
    {
     "name": "stdout",
     "output_type": "stream",
     "text": [
      "Index(['Date', 'High', 'Low', 'Open', 'Close', 'Volume', 'Adj Close'], dtype='object')\n"
     ]
    }
   ],
   "source": [
    "print(df_CEG.columns)"
   ]
  },
  {
   "cell_type": "code",
   "execution_count": 66,
   "id": "8ed741d4",
   "metadata": {},
   "outputs": [
    {
     "name": "stdout",
     "output_type": "stream",
     "text": [
      "Every 'Adj Close' is the same as 'Close'\n"
     ]
    }
   ],
   "source": [
    "if df_CEG['Close'].equals(df_CEG['Adj Close']):\n",
    "    print(\"Every 'Adj Close' is the same as 'Close'\")\n",
    "else:\n",
    "    print(\"Not every 'Adj Close' is the same as 'Close'\")"
   ]
  },
  {
   "cell_type": "code",
   "execution_count": 67,
   "id": "d24b8358",
   "metadata": {},
   "outputs": [
    {
     "name": "stdout",
     "output_type": "stream",
     "text": [
      "Not every 'Adj Close' is the same as 'Close'\n"
     ]
    }
   ],
   "source": [
    "if df_CB['Close'].equals(df_CB['Adj Close']):\n",
    "    print(\"Every 'Adj Close' is the same as 'Close'\")\n",
    "else:\n",
    "    print(\"Not every 'Adj Close' is the same as 'Close'\")"
   ]
  },
  {
   "cell_type": "code",
   "execution_count": 68,
   "id": "406f8077",
   "metadata": {},
   "outputs": [
    {
     "name": "stdout",
     "output_type": "stream",
     "text": [
      "Not every 'Adj Close' is the same as 'Close'\n"
     ]
    }
   ],
   "source": [
    "if df_LMT['Close'].equals(df_LMT['Adj Close']):\n",
    "    print(\"Every 'Adj Close' is the same as 'Close'\")\n",
    "else:\n",
    "    print(\"Not every 'Adj Close' is the same as 'Close'\")"
   ]
  },
  {
   "cell_type": "code",
   "execution_count": 69,
   "id": "e5b47a9b",
   "metadata": {},
   "outputs": [
    {
     "name": "stdout",
     "output_type": "stream",
     "text": [
      "Not every 'Adj Close' is the same as 'Close'\n"
     ]
    }
   ],
   "source": [
    "if df_Ball['Close'].equals(df_Ball['Adj Close']):\n",
    "    print(\"Every 'Adj Close' is the same as 'Close'\")\n",
    "else:\n",
    "    print(\"Not every 'Adj Close' is the same as 'Close'\")"
   ]
  },
  {
   "cell_type": "code",
   "execution_count": 70,
   "id": "6952e01d",
   "metadata": {},
   "outputs": [],
   "source": [
    "# not every is the same. That means, that there has bee dividends, stocksplits or so"
   ]
  },
  {
   "cell_type": "code",
   "execution_count": 73,
   "id": "26c86edb",
   "metadata": {},
   "outputs": [
    {
     "ename": "ValueError",
     "evalue": "Grouper for 'Date' not 1-dimensional",
     "output_type": "error",
     "traceback": [
      "\u001b[1;31m---------------------------------------------------------------------------\u001b[0m",
      "\u001b[1;31mValueError\u001b[0m                                Traceback (most recent call last)",
      "Input \u001b[1;32mIn [73]\u001b[0m, in \u001b[0;36m<cell line: 2>\u001b[1;34m()\u001b[0m\n\u001b[0;32m      1\u001b[0m combined_df \u001b[38;5;241m=\u001b[39m pd\u001b[38;5;241m.\u001b[39mconcat([df_Ball, df_LMT, df_CB, df_CEG], axis\u001b[38;5;241m=\u001b[39m\u001b[38;5;241m1\u001b[39m)\n\u001b[1;32m----> 2\u001b[0m combined_df \u001b[38;5;241m=\u001b[39m \u001b[43mcombined_df\u001b[49m\u001b[38;5;241;43m.\u001b[39;49m\u001b[43mgroupby\u001b[49m\u001b[43m(\u001b[49m\u001b[38;5;124;43m'\u001b[39;49m\u001b[38;5;124;43mDate\u001b[39;49m\u001b[38;5;124;43m'\u001b[39;49m\u001b[43m)\u001b[49m[\u001b[38;5;124m'\u001b[39m\u001b[38;5;124mAdj Close\u001b[39m\u001b[38;5;124m'\u001b[39m]\u001b[38;5;241m.\u001b[39magg([\u001b[38;5;124m'\u001b[39m\u001b[38;5;124mmax\u001b[39m\u001b[38;5;124m'\u001b[39m, \u001b[38;5;124m'\u001b[39m\u001b[38;5;124mmin\u001b[39m\u001b[38;5;124m'\u001b[39m])\n\u001b[0;32m      3\u001b[0m \u001b[38;5;28mprint\u001b[39m(combined_df)\n",
      "File \u001b[1;32m~\\anaconda3\\lib\\site-packages\\pandas\\core\\frame.py:7712\u001b[0m, in \u001b[0;36mDataFrame.groupby\u001b[1;34m(self, by, axis, level, as_index, sort, group_keys, squeeze, observed, dropna)\u001b[0m\n\u001b[0;32m   7707\u001b[0m axis \u001b[38;5;241m=\u001b[39m \u001b[38;5;28mself\u001b[39m\u001b[38;5;241m.\u001b[39m_get_axis_number(axis)\n\u001b[0;32m   7709\u001b[0m \u001b[38;5;66;03m# https://github.com/python/mypy/issues/7642\u001b[39;00m\n\u001b[0;32m   7710\u001b[0m \u001b[38;5;66;03m# error: Argument \"squeeze\" to \"DataFrameGroupBy\" has incompatible type\u001b[39;00m\n\u001b[0;32m   7711\u001b[0m \u001b[38;5;66;03m# \"Union[bool, NoDefault]\"; expected \"bool\"\u001b[39;00m\n\u001b[1;32m-> 7712\u001b[0m \u001b[38;5;28;01mreturn\u001b[39;00m \u001b[43mDataFrameGroupBy\u001b[49m\u001b[43m(\u001b[49m\n\u001b[0;32m   7713\u001b[0m \u001b[43m    \u001b[49m\u001b[43mobj\u001b[49m\u001b[38;5;241;43m=\u001b[39;49m\u001b[38;5;28;43mself\u001b[39;49m\u001b[43m,\u001b[49m\n\u001b[0;32m   7714\u001b[0m \u001b[43m    \u001b[49m\u001b[43mkeys\u001b[49m\u001b[38;5;241;43m=\u001b[39;49m\u001b[43mby\u001b[49m\u001b[43m,\u001b[49m\n\u001b[0;32m   7715\u001b[0m \u001b[43m    \u001b[49m\u001b[43maxis\u001b[49m\u001b[38;5;241;43m=\u001b[39;49m\u001b[43maxis\u001b[49m\u001b[43m,\u001b[49m\n\u001b[0;32m   7716\u001b[0m \u001b[43m    \u001b[49m\u001b[43mlevel\u001b[49m\u001b[38;5;241;43m=\u001b[39;49m\u001b[43mlevel\u001b[49m\u001b[43m,\u001b[49m\n\u001b[0;32m   7717\u001b[0m \u001b[43m    \u001b[49m\u001b[43mas_index\u001b[49m\u001b[38;5;241;43m=\u001b[39;49m\u001b[43mas_index\u001b[49m\u001b[43m,\u001b[49m\n\u001b[0;32m   7718\u001b[0m \u001b[43m    \u001b[49m\u001b[43msort\u001b[49m\u001b[38;5;241;43m=\u001b[39;49m\u001b[43msort\u001b[49m\u001b[43m,\u001b[49m\n\u001b[0;32m   7719\u001b[0m \u001b[43m    \u001b[49m\u001b[43mgroup_keys\u001b[49m\u001b[38;5;241;43m=\u001b[39;49m\u001b[43mgroup_keys\u001b[49m\u001b[43m,\u001b[49m\n\u001b[0;32m   7720\u001b[0m \u001b[43m    \u001b[49m\u001b[43msqueeze\u001b[49m\u001b[38;5;241;43m=\u001b[39;49m\u001b[43msqueeze\u001b[49m\u001b[43m,\u001b[49m\u001b[43m  \u001b[49m\u001b[38;5;66;43;03m# type: ignore[arg-type]\u001b[39;49;00m\n\u001b[0;32m   7721\u001b[0m \u001b[43m    \u001b[49m\u001b[43mobserved\u001b[49m\u001b[38;5;241;43m=\u001b[39;49m\u001b[43mobserved\u001b[49m\u001b[43m,\u001b[49m\n\u001b[0;32m   7722\u001b[0m \u001b[43m    \u001b[49m\u001b[43mdropna\u001b[49m\u001b[38;5;241;43m=\u001b[39;49m\u001b[43mdropna\u001b[49m\u001b[43m,\u001b[49m\n\u001b[0;32m   7723\u001b[0m \u001b[43m\u001b[49m\u001b[43m)\u001b[49m\n",
      "File \u001b[1;32m~\\anaconda3\\lib\\site-packages\\pandas\\core\\groupby\\groupby.py:882\u001b[0m, in \u001b[0;36mGroupBy.__init__\u001b[1;34m(self, obj, keys, axis, level, grouper, exclusions, selection, as_index, sort, group_keys, squeeze, observed, mutated, dropna)\u001b[0m\n\u001b[0;32m    879\u001b[0m \u001b[38;5;28;01mif\u001b[39;00m grouper \u001b[38;5;129;01mis\u001b[39;00m \u001b[38;5;28;01mNone\u001b[39;00m:\n\u001b[0;32m    880\u001b[0m     \u001b[38;5;28;01mfrom\u001b[39;00m \u001b[38;5;21;01mpandas\u001b[39;00m\u001b[38;5;21;01m.\u001b[39;00m\u001b[38;5;21;01mcore\u001b[39;00m\u001b[38;5;21;01m.\u001b[39;00m\u001b[38;5;21;01mgroupby\u001b[39;00m\u001b[38;5;21;01m.\u001b[39;00m\u001b[38;5;21;01mgrouper\u001b[39;00m \u001b[38;5;28;01mimport\u001b[39;00m get_grouper\n\u001b[1;32m--> 882\u001b[0m     grouper, exclusions, obj \u001b[38;5;241m=\u001b[39m \u001b[43mget_grouper\u001b[49m\u001b[43m(\u001b[49m\n\u001b[0;32m    883\u001b[0m \u001b[43m        \u001b[49m\u001b[43mobj\u001b[49m\u001b[43m,\u001b[49m\n\u001b[0;32m    884\u001b[0m \u001b[43m        \u001b[49m\u001b[43mkeys\u001b[49m\u001b[43m,\u001b[49m\n\u001b[0;32m    885\u001b[0m \u001b[43m        \u001b[49m\u001b[43maxis\u001b[49m\u001b[38;5;241;43m=\u001b[39;49m\u001b[43maxis\u001b[49m\u001b[43m,\u001b[49m\n\u001b[0;32m    886\u001b[0m \u001b[43m        \u001b[49m\u001b[43mlevel\u001b[49m\u001b[38;5;241;43m=\u001b[39;49m\u001b[43mlevel\u001b[49m\u001b[43m,\u001b[49m\n\u001b[0;32m    887\u001b[0m \u001b[43m        \u001b[49m\u001b[43msort\u001b[49m\u001b[38;5;241;43m=\u001b[39;49m\u001b[43msort\u001b[49m\u001b[43m,\u001b[49m\n\u001b[0;32m    888\u001b[0m \u001b[43m        \u001b[49m\u001b[43mobserved\u001b[49m\u001b[38;5;241;43m=\u001b[39;49m\u001b[43mobserved\u001b[49m\u001b[43m,\u001b[49m\n\u001b[0;32m    889\u001b[0m \u001b[43m        \u001b[49m\u001b[43mmutated\u001b[49m\u001b[38;5;241;43m=\u001b[39;49m\u001b[38;5;28;43mself\u001b[39;49m\u001b[38;5;241;43m.\u001b[39;49m\u001b[43mmutated\u001b[49m\u001b[43m,\u001b[49m\n\u001b[0;32m    890\u001b[0m \u001b[43m        \u001b[49m\u001b[43mdropna\u001b[49m\u001b[38;5;241;43m=\u001b[39;49m\u001b[38;5;28;43mself\u001b[39;49m\u001b[38;5;241;43m.\u001b[39;49m\u001b[43mdropna\u001b[49m\u001b[43m,\u001b[49m\n\u001b[0;32m    891\u001b[0m \u001b[43m    \u001b[49m\u001b[43m)\u001b[49m\n\u001b[0;32m    893\u001b[0m \u001b[38;5;28mself\u001b[39m\u001b[38;5;241m.\u001b[39mobj \u001b[38;5;241m=\u001b[39m obj\n\u001b[0;32m    894\u001b[0m \u001b[38;5;28mself\u001b[39m\u001b[38;5;241m.\u001b[39maxis \u001b[38;5;241m=\u001b[39m obj\u001b[38;5;241m.\u001b[39m_get_axis_number(axis)\n",
      "File \u001b[1;32m~\\anaconda3\\lib\\site-packages\\pandas\\core\\groupby\\grouper.py:877\u001b[0m, in \u001b[0;36mget_grouper\u001b[1;34m(obj, key, axis, level, sort, observed, mutated, validate, dropna)\u001b[0m\n\u001b[0;32m    873\u001b[0m     in_axis, name, gpr \u001b[38;5;241m=\u001b[39m \u001b[38;5;28;01mTrue\u001b[39;00m, gpr, obj[gpr]\n\u001b[0;32m    874\u001b[0m     \u001b[38;5;28;01mif\u001b[39;00m gpr\u001b[38;5;241m.\u001b[39mndim \u001b[38;5;241m!=\u001b[39m \u001b[38;5;241m1\u001b[39m:\n\u001b[0;32m    875\u001b[0m         \u001b[38;5;66;03m# non-unique columns; raise here to get the name in the\u001b[39;00m\n\u001b[0;32m    876\u001b[0m         \u001b[38;5;66;03m# exception message\u001b[39;00m\n\u001b[1;32m--> 877\u001b[0m         \u001b[38;5;28;01mraise\u001b[39;00m \u001b[38;5;167;01mValueError\u001b[39;00m(\u001b[38;5;124mf\u001b[39m\u001b[38;5;124m\"\u001b[39m\u001b[38;5;124mGrouper for \u001b[39m\u001b[38;5;124m'\u001b[39m\u001b[38;5;132;01m{\u001b[39;00mname\u001b[38;5;132;01m}\u001b[39;00m\u001b[38;5;124m'\u001b[39m\u001b[38;5;124m not 1-dimensional\u001b[39m\u001b[38;5;124m\"\u001b[39m)\n\u001b[0;32m    878\u001b[0m     exclusions\u001b[38;5;241m.\u001b[39madd(name)\n\u001b[0;32m    879\u001b[0m \u001b[38;5;28;01melif\u001b[39;00m obj\u001b[38;5;241m.\u001b[39m_is_level_reference(gpr, axis\u001b[38;5;241m=\u001b[39maxis):\n",
      "\u001b[1;31mValueError\u001b[0m: Grouper for 'Date' not 1-dimensional"
     ]
    }
   ],
   "source": [
    "combined_df = pd.concat([df_Ball, df_LMT, df_CB, df_CEG], axis=1)\n",
    "combined_df = combined_df.groupby('Date')['Adj Close'].agg(['max', 'min'])\n",
    "print(combined_df)"
   ]
  },
  {
   "cell_type": "code",
   "execution_count": 74,
   "id": "946c1c22",
   "metadata": {},
   "outputs": [
    {
     "name": "stdout",
     "output_type": "stream",
     "text": [
      "Highest 'Adj Close': 96.76301574707033\n",
      "Lowest 'Adj Close': 33.981536865234375\n"
     ]
    }
   ],
   "source": [
    "high = df_Ball['Adj Close'].max()\n",
    "low = df_Ball['Adj Close'].min()\n",
    "\n",
    "print(f\"Highest 'Adj Close': {high}\")\n",
    "print(f\"Lowest 'Adj Close': {low}\")"
   ]
  },
  {
   "cell_type": "code",
   "execution_count": 75,
   "id": "64a4af56",
   "metadata": {},
   "outputs": [
    {
     "name": "stdout",
     "output_type": "stream",
     "text": [
      "Highest 'Adj Close': 494.1199951171875\n",
      "Lowest 'Adj Close': 224.6717529296875\n"
     ]
    }
   ],
   "source": [
    "high = df_LMT['Adj Close'].max()\n",
    "low = df_LMT['Adj Close'].min()\n",
    "\n",
    "print(f\"Highest 'Adj Close': {high}\")\n",
    "print(f\"Lowest 'Adj Close': {low}\")"
   ]
  },
  {
   "cell_type": "code",
   "execution_count": 76,
   "id": "af06450d",
   "metadata": {},
   "outputs": [
    {
     "name": "stdout",
     "output_type": "stream",
     "text": [
      "Highest 'Adj Close': 215.9415283203125\n",
      "Lowest 'Adj Close': 89.80359649658203\n"
     ]
    }
   ],
   "source": [
    "high = df_CB['Adj Close'].max()\n",
    "low = df_CB['Adj Close'].min()\n",
    "\n",
    "print(f\"Highest 'Adj Close': {high}\")\n",
    "print(f\"Lowest 'Adj Close': {low}\")"
   ]
  },
  {
   "cell_type": "code",
   "execution_count": 77,
   "id": "bd659833",
   "metadata": {},
   "outputs": [
    {
     "name": "stdout",
     "output_type": "stream",
     "text": [
      "Highest 'Adj Close': 95.5199966430664\n",
      "Lowest 'Adj Close': 41.89799880981445\n"
     ]
    }
   ],
   "source": [
    "high = df_CEG['Adj Close'].max()\n",
    "low = df_CEG['Adj Close'].min()\n",
    "\n",
    "print(f\"Highest 'Adj Close': {high}\")\n",
    "print(f\"Lowest 'Adj Close': {low}\")"
   ]
  },
  {
   "cell_type": "code",
   "execution_count": 78,
   "id": "eb563421",
   "metadata": {},
   "outputs": [
    {
     "name": "stdout",
     "output_type": "stream",
     "text": [
      "min      -0.084657\n",
      "max       0.151136\n",
      "mean      0.003823\n",
      "median    0.002553\n",
      "Name: Adj Close, dtype: float64\n"
     ]
    }
   ],
   "source": [
    "df_Log_CEG = np.log(df_CEG['Adj Close'] / df_CEG['Adj Close'].shift(1))\n",
    "returns_summary = df_Log_CEG.agg(['min', 'max', 'mean', 'median'])\n",
    "\n",
    "\n",
    "print(returns_summary)"
   ]
  },
  {
   "cell_type": "code",
   "execution_count": 79,
   "id": "b97ae880",
   "metadata": {},
   "outputs": [
    {
     "name": "stdout",
     "output_type": "stream",
     "text": [
      "min      -0.183603\n",
      "max       0.085028\n",
      "mean      0.000327\n",
      "median    0.000691\n",
      "Name: Adj Close, dtype: float64\n"
     ]
    }
   ],
   "source": [
    "df_Log_CB = np.log(df_CB['Adj Close'] / df_CB['Adj Close'].shift(1))\n",
    "returns_summary = df_Log_CB.agg(['min', 'max', 'mean', 'median'])\n",
    "\n",
    "\n",
    "print(returns_summary)"
   ]
  },
  {
   "cell_type": "code",
   "execution_count": 80,
   "id": "f8c4d1d6",
   "metadata": {},
   "outputs": [
    {
     "name": "stdout",
     "output_type": "stream",
     "text": [
      "min      -0.136526\n",
      "max       0.101906\n",
      "mean      0.000408\n",
      "median    0.001021\n",
      "Name: Adj Close, dtype: float64\n"
     ]
    }
   ],
   "source": [
    "df_Log_LMT = np.log(df_LMT['Adj Close'] / df_LMT['Adj Close'].shift(1))\n",
    "returns_summary = df_Log_LMT.agg(['min', 'max', 'mean', 'median'])\n",
    "\n",
    "\n",
    "print(returns_summary)"
   ]
  },
  {
   "cell_type": "code",
   "execution_count": 81,
   "id": "702b5aa9",
   "metadata": {},
   "outputs": [
    {
     "name": "stdout",
     "output_type": "stream",
     "text": [
      "min      -0.205581\n",
      "max       0.114140\n",
      "mean      0.000308\n",
      "median    0.000873\n",
      "Name: Adj Close, dtype: float64\n"
     ]
    }
   ],
   "source": [
    "df_Log_Ball = np.log(df_Ball['Adj Close'] / df_Ball['Adj Close'].shift(1))\n",
    "returns_summary = df_Log_Ball.agg(['min', 'max', 'mean', 'median'])\n",
    "\n",
    "\n",
    "print(returns_summary)"
   ]
  },
  {
   "cell_type": "code",
   "execution_count": 82,
   "id": "96b8b7a0",
   "metadata": {},
   "outputs": [
    {
     "name": "stdout",
     "output_type": "stream",
     "text": [
      "Date of highest gain: 592\n",
      "Date of highest loss: 1188\n"
     ]
    }
   ],
   "source": [
    "\n",
    "date_highest_gain = df_Log_Ball.idxmax()\n",
    "\n",
    "date_highest_loss = df_Log_Ball.idxmin()\n",
    "\n",
    "print(f\"Date of highest gain: {date_highest_gain}\")\n",
    "print(f\"Date of highest loss: {date_highest_loss}\")"
   ]
  },
  {
   "cell_type": "code",
   "execution_count": 83,
   "id": "7fb7b0d7",
   "metadata": {},
   "outputs": [
    {
     "name": "stdout",
     "output_type": "stream",
     "text": [
      "Date of highest gain: 587\n",
      "Date of highest loss: 584\n"
     ]
    }
   ],
   "source": [
    "date_highest_gain = df_Log_LMT.idxmax()\n",
    "\n",
    "date_highest_loss = df_Log_LMT.idxmin()\n",
    "\n",
    "print(f\"Date of highest gain: {date_highest_gain}\")\n",
    "print(f\"Date of highest loss: {date_highest_loss}\")"
   ]
  },
  {
   "cell_type": "code",
   "execution_count": 84,
   "id": "72941f8a",
   "metadata": {},
   "outputs": [
    {
     "name": "stdout",
     "output_type": "stream",
     "text": [
      "Date of highest gain: 592\n",
      "Date of highest loss: 586\n"
     ]
    }
   ],
   "source": [
    "date_highest_gain = df_Log_CB.idxmax()\n",
    "\n",
    "date_highest_loss = df_Log_CB.idxmin()\n",
    "\n",
    "print(f\"Date of highest gain: {date_highest_gain}\")\n",
    "print(f\"Date of highest loss: {date_highest_loss}\")"
   ]
  },
  {
   "cell_type": "code",
   "execution_count": 85,
   "id": "cf3e73b6",
   "metadata": {},
   "outputs": [
    {
     "name": "stdout",
     "output_type": "stream",
     "text": [
      "Date of highest gain: 131\n",
      "Date of highest loss: 13\n"
     ]
    }
   ],
   "source": [
    "date_highest_gain = df_Log_CEG.idxmax()\n",
    "\n",
    "date_highest_loss = df_Log_CEG.idxmin()\n",
    "\n",
    "print(f\"Date of highest gain: {date_highest_gain}\")\n",
    "print(f\"Date of highest loss: {date_highest_loss}\")"
   ]
  },
  {
   "cell_type": "code",
   "execution_count": 86,
   "id": "0980eb0d",
   "metadata": {},
   "outputs": [
    {
     "ename": "KeyError",
     "evalue": "'Volume'",
     "output_type": "error",
     "traceback": [
      "\u001b[1;31m---------------------------------------------------------------------------\u001b[0m",
      "\u001b[1;31mKeyError\u001b[0m                                  Traceback (most recent call last)",
      "Input \u001b[1;32mIn [86]\u001b[0m, in \u001b[0;36m<cell line: 2>\u001b[1;34m()\u001b[0m\n\u001b[0;32m      1\u001b[0m df_Date_CB \u001b[38;5;241m=\u001b[39m pd\u001b[38;5;241m.\u001b[39mto_datetime(df_CB[\u001b[38;5;124m'\u001b[39m\u001b[38;5;124mDate\u001b[39m\u001b[38;5;124m'\u001b[39m])\n\u001b[1;32m----> 2\u001b[0m avg_weekly_vol \u001b[38;5;241m=\u001b[39m \u001b[43mdf_Date_CB\u001b[49m\u001b[43m[\u001b[49m\u001b[38;5;124;43m'\u001b[39;49m\u001b[38;5;124;43mVolume\u001b[39;49m\u001b[38;5;124;43m'\u001b[39;49m\u001b[43m]\u001b[49m\u001b[38;5;241m.\u001b[39mresample(\u001b[38;5;124m'\u001b[39m\u001b[38;5;124mW\u001b[39m\u001b[38;5;124m'\u001b[39m)\u001b[38;5;241m.\u001b[39mmean()\n\u001b[0;32m      4\u001b[0m \u001b[38;5;28mprint\u001b[39m(avg_weekly_vol)\n",
      "File \u001b[1;32m~\\anaconda3\\lib\\site-packages\\pandas\\core\\series.py:958\u001b[0m, in \u001b[0;36mSeries.__getitem__\u001b[1;34m(self, key)\u001b[0m\n\u001b[0;32m    955\u001b[0m     \u001b[38;5;28;01mreturn\u001b[39;00m \u001b[38;5;28mself\u001b[39m\u001b[38;5;241m.\u001b[39m_values[key]\n\u001b[0;32m    957\u001b[0m \u001b[38;5;28;01melif\u001b[39;00m key_is_scalar:\n\u001b[1;32m--> 958\u001b[0m     \u001b[38;5;28;01mreturn\u001b[39;00m \u001b[38;5;28;43mself\u001b[39;49m\u001b[38;5;241;43m.\u001b[39;49m\u001b[43m_get_value\u001b[49m\u001b[43m(\u001b[49m\u001b[43mkey\u001b[49m\u001b[43m)\u001b[49m\n\u001b[0;32m    960\u001b[0m \u001b[38;5;28;01mif\u001b[39;00m is_hashable(key):\n\u001b[0;32m    961\u001b[0m     \u001b[38;5;66;03m# Otherwise index.get_value will raise InvalidIndexError\u001b[39;00m\n\u001b[0;32m    962\u001b[0m     \u001b[38;5;28;01mtry\u001b[39;00m:\n\u001b[0;32m    963\u001b[0m         \u001b[38;5;66;03m# For labels that don't resolve as scalars like tuples and frozensets\u001b[39;00m\n",
      "File \u001b[1;32m~\\anaconda3\\lib\\site-packages\\pandas\\core\\series.py:1069\u001b[0m, in \u001b[0;36mSeries._get_value\u001b[1;34m(self, label, takeable)\u001b[0m\n\u001b[0;32m   1066\u001b[0m     \u001b[38;5;28;01mreturn\u001b[39;00m \u001b[38;5;28mself\u001b[39m\u001b[38;5;241m.\u001b[39m_values[label]\n\u001b[0;32m   1068\u001b[0m \u001b[38;5;66;03m# Similar to Index.get_value, but we do not fall back to positional\u001b[39;00m\n\u001b[1;32m-> 1069\u001b[0m loc \u001b[38;5;241m=\u001b[39m \u001b[38;5;28;43mself\u001b[39;49m\u001b[38;5;241;43m.\u001b[39;49m\u001b[43mindex\u001b[49m\u001b[38;5;241;43m.\u001b[39;49m\u001b[43mget_loc\u001b[49m\u001b[43m(\u001b[49m\u001b[43mlabel\u001b[49m\u001b[43m)\u001b[49m\n\u001b[0;32m   1070\u001b[0m \u001b[38;5;28;01mreturn\u001b[39;00m \u001b[38;5;28mself\u001b[39m\u001b[38;5;241m.\u001b[39mindex\u001b[38;5;241m.\u001b[39m_get_values_for_loc(\u001b[38;5;28mself\u001b[39m, loc, label)\n",
      "File \u001b[1;32m~\\anaconda3\\lib\\site-packages\\pandas\\core\\indexes\\range.py:389\u001b[0m, in \u001b[0;36mRangeIndex.get_loc\u001b[1;34m(self, key, method, tolerance)\u001b[0m\n\u001b[0;32m    387\u001b[0m             \u001b[38;5;28;01mraise\u001b[39;00m \u001b[38;5;167;01mKeyError\u001b[39;00m(key) \u001b[38;5;28;01mfrom\u001b[39;00m \u001b[38;5;21;01merr\u001b[39;00m\n\u001b[0;32m    388\u001b[0m     \u001b[38;5;28mself\u001b[39m\u001b[38;5;241m.\u001b[39m_check_indexing_error(key)\n\u001b[1;32m--> 389\u001b[0m     \u001b[38;5;28;01mraise\u001b[39;00m \u001b[38;5;167;01mKeyError\u001b[39;00m(key)\n\u001b[0;32m    390\u001b[0m \u001b[38;5;28;01mreturn\u001b[39;00m \u001b[38;5;28msuper\u001b[39m()\u001b[38;5;241m.\u001b[39mget_loc(key, method\u001b[38;5;241m=\u001b[39mmethod, tolerance\u001b[38;5;241m=\u001b[39mtolerance)\n",
      "\u001b[1;31mKeyError\u001b[0m: 'Volume'"
     ]
    }
   ],
   "source": [
    "df_Date_CB = pd.to_datetime(df_CB['Date'])\n",
    "avg_weekly_vol = df_Date_CB['Volume'].resample('W').mean()\n",
    "\n",
    "print(avg_weekly_vol)"
   ]
  },
  {
   "cell_type": "code",
   "execution_count": null,
   "id": "a1ee168b",
   "metadata": {},
   "outputs": [],
   "source": []
  },
  {
   "cell_type": "code",
   "execution_count": null,
   "id": "b3547302",
   "metadata": {},
   "outputs": [],
   "source": []
  }
 ],
 "metadata": {
  "kernelspec": {
   "display_name": "Python 3 (ipykernel)",
   "language": "python",
   "name": "python3"
  },
  "language_info": {
   "codemirror_mode": {
    "name": "ipython",
    "version": 3
   },
   "file_extension": ".py",
   "mimetype": "text/x-python",
   "name": "python",
   "nbconvert_exporter": "python",
   "pygments_lexer": "ipython3",
   "version": "3.9.12"
  }
 },
 "nbformat": 4,
 "nbformat_minor": 5
}
